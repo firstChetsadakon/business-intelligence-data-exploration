{
 "cells": [
  {
   "cell_type": "markdown",
   "metadata": {},
   "source": [
    "Feature Engineering ใน Notebook นี้จัดทำขึ้นเพื่อ clean feature ทั้ง Numerical และ Categorical โดยมีทดลองจัดการกับ Value เหล่านี้ 2 แบบ\n",
    "* แบบที่ 1 :\n",
    "    * Categorical Feature : group ข้อมูลเป็นกลุ่มใหญ่ ๆ และตัด row ที่มี missing value ออก\n",
    "    * Numerical : นำ Row ที่เป็น Outlier และ Missing Value ออก\n",
    "* แบบที่ 2 :\n",
    "    * Categorical Feature : group ข้อมูลเป็นกลุ่มใหญ่ ๆ และเติม Missing value ด้วย Mode\n",
    "    * Numerical : เติม Missing value ด้วย median และ cap ค่า outlier"
   ]
  },
  {
   "cell_type": "code",
   "execution_count": 1,
   "metadata": {},
   "outputs": [],
   "source": [
    "from src.clean_data import *\n",
    "from sklearn.preprocessing import StandardScaler, MinMaxScaler\n",
    "import warnings\n",
    "warnings.filterwarnings(\"ignore\")"
   ]
  },
  {
   "cell_type": "code",
   "execution_count": 2,
   "metadata": {},
   "outputs": [],
   "source": [
    "def remove_outliers(df, numerical_columns):\n",
    "    \"\"\"ลบ outlier ออกจากคอลัมน์ที่กำหนดโดยใช้ IQR\"\"\"\n",
    "    df_clean = df.copy()  # สร้างสำเนา DataFrame เพื่อลบแถว\n",
    "    \n",
    "    for column in numerical_columns:\n",
    "        Q1 = df_clean[column].quantile(0.25)  # ค่ามัธยฐานล่าง (25th percentile)\n",
    "        Q3 = df_clean[column].quantile(0.75)  # ค่ามัธยฐานบน (75th percentile)\n",
    "        IQR = Q3 - Q1  # ค่าความกว้างระหว่างควอไทล์\n",
    "        \n",
    "        lower_bound = Q1 - 1.5 * IQR\n",
    "        upper_bound = Q3 + 1.5 * IQR\n",
    "\n",
    "        # กรองแถวที่ไม่มี outlier\n",
    "        df_clean = df_clean[(df_clean[column] >= lower_bound) & (df_clean[column] <= upper_bound)]\n",
    "    \n",
    "    return df_clean"
   ]
  },
  {
   "cell_type": "code",
   "execution_count": 3,
   "metadata": {},
   "outputs": [],
   "source": [
    "def scale_data(data,scale_by='standard_scaler',target_col = 'มูลค่าความเสียหาย'):\n",
    "    if scale_by == 'standard_scaler':\n",
    "        # ใช้ StandardScaler\n",
    "        scaler = StandardScaler()\n",
    "    elif scale_by == 'min_max':\n",
    "        scaler = MinMaxScaler()\n",
    "        \n",
    "    features = data.drop(target_col,axis=1)\n",
    "    scaled_features = scaler.fit_transform(features)\n",
    "\n",
    "    # สร้าง DataFrame ใหม่ที่สเกลแล้ว\n",
    "    df_scaled = pd.DataFrame(scaled_features, columns=features.columns)\n",
    "\n",
    "    # นำคอลัมน์ target กลับมา\n",
    "    df_scaled[target_col] = data[target_col]\n",
    "    return df_scaled"
   ]
  },
  {
   "cell_type": "code",
   "execution_count": null,
   "metadata": {},
   "outputs": [],
   "source": []
  },
  {
   "cell_type": "code",
   "execution_count": 5,
   "metadata": {},
   "outputs": [],
   "source": [
    "raw_data = pd.read_csv('./data/accident2024 + $Damage.csv')\n",
    "target = 'มูลค่าความเสียหาย'\n",
    "\n",
    "# นำ Column ที่ไม่เกี่ยวข้องออก\n",
    "irrelevant_column = ['ปีที่เกิดเหตุ', 'วันที่เกิดเหตุ', 'เวลา', 'วันที่รายงาน',\n",
    "                     'เวลาที่รายงาน', 'ACC_CODE', 'หน่วยงาน', 'สายทางหน่วยงาน', \n",
    "                     'รหัสสายทาง','สายทาง', 'KM']\n",
    "df = raw_data.drop(irrelevant_column,axis=1)\n"
   ]
  },
  {
   "cell_type": "code",
   "execution_count": 6,
   "metadata": {},
   "outputs": [],
   "source": [
    "# ระบุ column ที่เป็น categorical และ numerical\n",
    "categorical_feature = ['บริเวณที่เกิดเหตุ', 'มูลเหตุสันนิษฐาน',\n",
    "               'ลักษณะการเกิดอุบัติเ', 'สภาพอากาศ']\n",
    "numerical_feature = ['รถจักรยานยนต์', 'รถสามล้อเครื่อง',\n",
    "       'รถยนต์นั่งส่วนบุคคล', 'รถตู้', 'รถปิคอัพโดยสาร', 'รถโดยสารมากกว่า4ล้อ',\n",
    "       'รถปิคอัพบรรทุก4ล้อ', 'รถบรรทุก6ล้อ', 'รถบรรทุกไม่เกิน10ล้อ',\n",
    "       'รถบรรทุกมากกว่า10ล้อ', 'รถอีแต๋น', 'อื่นๆ', 'คนเดินเท้า',\n",
    "       'จำนวนผู้เสียชีวิต', 'จำนวนผู้บาดเจ็บสาหัส', 'จำนวนผู้บาดเจ็บเล็ก',\n",
    "       'รวมจำนวนผู้บาดเจ็บ']\n",
    "\n",
    "province_json_path = 'thailand_provinces.json'"
   ]
  },
  {
   "cell_type": "markdown",
   "metadata": {},
   "source": [
    "### แบบที่ 1 :\n",
    "* Categorical Feature : group ข้อมูลเป็นกลุ่มใหญ่ ๆ และตัด row ที่มี missing value ออก\n",
    "* Numerical : นำ Row ที่เป็น Outlier และ Missing Value ออก"
   ]
  },
  {
   "cell_type": "code",
   "execution_count": 7,
   "metadata": {},
   "outputs": [],
   "source": [
    "columns_to_clean = [\n",
    "    'จังหวัด', 'รถคันที่1', 'บริเวณที่เกิดเหตุ', 'มูลเหตุสันนิษฐาน', 'ลักษณะการเกิดอุบัติเ', \n",
    "    'สภาพอากาศ', 'จำนวนรถที่เกิดเหตุ', 'จำนวนที่เกิดเหตุทั้ง', 'รถจักรยานยนต์', 'รถสามล้อเครื่อง', \n",
    "    'รถยนต์นั่งส่วนบุคคล', 'รถตู้', 'รถปิคอัพโดยสาร', 'รถโดยสารมากกว่า4ล้อ', 'รถปิคอัพบรรทุก4ล้อ', \n",
    "    'รถบรรทุก6ล้อ', 'รถบรรทุกไม่เกิน10ล้อ', 'รถบรรทุกมากกว่า10ล้อ', 'รถอีแต๋น', 'อื่นๆ', 'คนเดินเท้า', \n",
    "    'จำนวนผู้เสียชีวิต', 'จำนวนผู้บาดเจ็บสาหัส', 'จำนวนผู้บาดเจ็บเล็ก', 'รวมจำนวนผู้บาดเจ็บ', 'มูลค่าความเสียหาย'\n",
    "]"
   ]
  },
  {
   "cell_type": "code",
   "execution_count": 8,
   "metadata": {},
   "outputs": [],
   "source": [
    "cleaned_1_df = df.dropna()\n",
    "cleaned_1_df = remove_outliers(cleaned_1_df,numerical_feature)\n",
    "\n",
    "cleaned_1_df = group_categorical_feature(cleaned_1_df)\n",
    "cleaned_1_df = recalculate_accident_number(cleaned_1_df)\n",
    "\n",
    "# Model Development\n",
    "to_delete = ['LATITUDE', 'LONGITUDE','จังหวัด', 'รถคันที่1', 'บริเวณที่เกิดเหตุ', 'มูลเหตุสันนิษฐาน',\n",
    "             'ลักษณะการเกิดอุบัติเ', 'สภาพอากาศ']\n",
    "model_1 = cleaned_1_df.drop(to_delete,axis=1)\n",
    "model_1 = encode_categorical_features(model_1,target_col = 'มูลค่าความเสียหาย')\n",
    "\n",
    "# Scale Different Way\n",
    "model_1_standard = scale_data(model_1,scale_by='standard_scaler')\n",
    "model_1_minmax = scale_data(model_1,scale_by='min_max')"
   ]
  },
  {
   "cell_type": "code",
   "execution_count": 10,
   "metadata": {},
   "outputs": [],
   "source": [
    "cleaned_1_df.to_csv('./output/data_after_clean_1.csv',encoding='utf-8-sig',index = False)"
   ]
  },
  {
   "cell_type": "markdown",
   "metadata": {},
   "source": [
    "### แบบที่ 2 :\n",
    "* Categorical Feature : group ข้อมูลเป็นกลุ่มใหญ่ ๆ และเติม Missing value ด้วย Mode\n",
    "* Numerical : เติม Missing value ด้วย median และ cap ค่า outlier"
   ]
  },
  {
   "cell_type": "code",
   "execution_count": 9,
   "metadata": {},
   "outputs": [],
   "source": [
    "cleaned_2_df = clean_by_cap_and_fill(df,numerical_feature,categorical_feature,province_json_path)\n",
    "\n",
    "# Model Development\n",
    "to_delete = ['LATITUDE', 'LONGITUDE','จังหวัด', 'รถคันที่1', 'บริเวณที่เกิดเหตุ', 'มูลเหตุสันนิษฐาน',\n",
    "             'ลักษณะการเกิดอุบัติเ', 'สภาพอากาศ']\n",
    "model_2 = cleaned_2_df.drop(to_delete,axis=1)\n",
    "model_2 = encode_categorical_features(model_2,target_col = 'มูลค่าความเสียหาย')\n",
    "\n",
    "# Scale Different Way\n",
    "model_2_standard = scale_data(model_2,scale_by='standard_scaler')\n",
    "model_2_minmax = scale_data(model_2,scale_by='min_max')"
   ]
  },
  {
   "cell_type": "code",
   "execution_count": 11,
   "metadata": {},
   "outputs": [],
   "source": [
    "cleaned_2_df.to_csv('./output/data_after_clean_2.csv',encoding='utf-8-sig',index = False)"
   ]
  },
  {
   "cell_type": "markdown",
   "metadata": {},
   "source": [
    "# ทด"
   ]
  },
  {
   "cell_type": "code",
   "execution_count": null,
   "metadata": {},
   "outputs": [],
   "source": [
    "def yeo_johnson_transform(df, columns):\n",
    "    df = df.copy()  # ป้องกันการเปลี่ยนแปลง DataFrame ต้นฉบับ\n",
    "    pt = PowerTransformer(method='yeo-johnson')  # ใช้วิธี Yeo-Johnson\n",
    "\n",
    "    for column in columns:\n",
    "        if column in df.columns and pd.api.types.is_numeric_dtype(df[column]):\n",
    "            non_na_values = df[column].dropna().values.reshape(-1, 1)  # เอาค่าที่ไม่ใช่ NaN\n",
    "            if len(np.unique(non_na_values)) > 1:  # เช็คว่ามีค่าหลายค่า (ไม่นับ NaN)\n",
    "                transformed_values = pt.fit_transform(non_na_values).flatten()\n",
    "                df.loc[df[column].notna(), column] = transformed_values\n",
    "    return df"
   ]
  },
  {
   "cell_type": "code",
   "execution_count": null,
   "metadata": {},
   "outputs": [],
   "source": [
    "def log_transform(df, columns):\n",
    "    df = df.copy()  # ป้องกันการเปลี่ยนแปลง DataFrame ต้นฉบับ\n",
    "    for column in columns:\n",
    "        if column in df.columns and pd.api.types.is_numeric_dtype(df[column]):\n",
    "            df[column] = np.log(df[column])  # ใช้ log(1+x) เพื่อจัดการค่า 0\n",
    "        else:\n",
    "            print(f\"Column '{column}' ไม่ใช่ตัวเลขหรือไม่มีอยู่ใน DataFrame\")\n",
    "    return df"
   ]
  }
 ],
 "metadata": {
  "kernelspec": {
   "display_name": "tcp_delivery",
   "language": "python",
   "name": "python3"
  },
  "language_info": {
   "codemirror_mode": {
    "name": "ipython",
    "version": 3
   },
   "file_extension": ".py",
   "mimetype": "text/x-python",
   "name": "python",
   "nbconvert_exporter": "python",
   "pygments_lexer": "ipython3",
   "version": "3.9.16"
  }
 },
 "nbformat": 4,
 "nbformat_minor": 4
}
