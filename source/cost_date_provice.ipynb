{
 "cells": [
  {
   "cell_type": "code",
   "id": "initial_id",
   "metadata": {
    "collapsed": true,
    "ExecuteTime": {
     "end_time": "2025-04-01T14:08:30.944722Z",
     "start_time": "2025-04-01T14:08:30.544436Z"
    }
   },
   "source": [
    "import pandas as pd\n",
    "\n",
    "# อ่านไฟล์ CSV\n",
    "df = pd.read_csv('accident2024 + $Damage.csv')\n",
    "\n",
    "# ล้างช่องว่าง และแปลงวันที่ (รองรับหลายรูปแบบ)\n",
    "df['วันที่เกิดเหตุ'] = pd.to_datetime(df['วันที่เกิดเหตุ'].astype(str).str.strip(), errors='coerce')\n",
    "\n",
    "# รวมมูลค่าความเสียหายตาม วันที่ และ จังหวัด\n",
    "grouped = (\n",
    "    df.groupby(['วันที่เกิดเหตุ', 'จังหวัด'])['มูลค่าความเสียหาย']\n",
    "    .sum()\n",
    "    .reset_index()\n",
    ")\n",
    "\n",
    "# สร้าง index ครบทุกจังหวัดกับทุกวัน\n",
    "all_dates = pd.date_range(start=grouped['วันที่เกิดเหตุ'].min(), end=grouped['วันที่เกิดเหตุ'].max())\n",
    "all_provinces = grouped['จังหวัด'].unique()\n",
    "full_index = pd.MultiIndex.from_product([all_dates, all_provinces], names=['วันที่เกิดเหตุ', 'จังหวัด'])\n",
    "\n",
    "# เติมวันที่-จังหวัดที่ไม่มีข้อมูลให้มูลค่าความเสียหาย = 0\n",
    "complete_df = grouped.set_index(['วันที่เกิดเหตุ', 'จังหวัด']).reindex(full_index, fill_value=0).reset_index()\n",
    "\n",
    "# เรียงตามวันที่\n",
    "complete_df = complete_df.sort_values(by='วันที่เกิดเหตุ')\n",
    "\n",
    "\n",
    "df.to_csv(\"../output/accident2024_sum_damage.csv\", index=False, encoding='utf-8')"
   ],
   "outputs": [
    {
     "name": "stderr",
     "output_type": "stream",
     "text": [
      "/var/folders/mh/smhv27qx1n769y841db29nmr0000gn/T/ipykernel_21344/3310686650.py:7: UserWarning: Could not infer format, so each element will be parsed individually, falling back to `dateutil`. To ensure parsing is consistent and as-expected, please specify a format.\n",
      "  df['วันที่เกิดเหตุ'] = pd.to_datetime(df['วันที่เกิดเหตุ'].astype(str).str.strip(), errors='coerce')\n"
     ]
    }
   ],
   "execution_count": 2
  },
  {
   "metadata": {},
   "cell_type": "code",
   "outputs": [],
   "execution_count": null,
   "source": "",
   "id": "32e9dfc795d30ba0"
  }
 ],
 "metadata": {
  "kernelspec": {
   "display_name": "Python 3",
   "language": "python",
   "name": "python3"
  },
  "language_info": {
   "codemirror_mode": {
    "name": "ipython",
    "version": 2
   },
   "file_extension": ".py",
   "mimetype": "text/x-python",
   "name": "python",
   "nbconvert_exporter": "python",
   "pygments_lexer": "ipython2",
   "version": "2.7.6"
  }
 },
 "nbformat": 4,
 "nbformat_minor": 5
}
