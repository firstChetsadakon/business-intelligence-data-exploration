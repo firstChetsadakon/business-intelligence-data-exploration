{
 "cells": [
  {
   "cell_type": "code",
   "id": "initial_id",
   "metadata": {
    "collapsed": true,
    "ExecuteTime": {
     "end_time": "2025-04-02T14:49:13.617010Z",
     "start_time": "2025-04-02T14:49:13.068712Z"
    }
   },
   "source": [
    "import pandas as pd\n",
    "\n",
    "def read_and_prepare_data(filepath):\n",
    "    \"\"\"อ่านไฟล์และเตรียมข้อมูลเบื้องต้น\"\"\"\n",
    "    df = pd.read_csv(filepath)\n",
    "    df['วันที่เกิดเหตุ'] = pd.to_datetime(df['วันที่เกิดเหตุ'].astype(str).str.strip(), errors='coerce')\n",
    "    df['จำนวนอุบัติเหตุ'] = 1\n",
    "    return df\n",
    "\n",
    "def group_accident_counts(df):\n",
    "    \"\"\"รวมจำนวนอุบัติเหตุตาม วันที่ และ จังหวัด\"\"\"\n",
    "    return (\n",
    "        df.groupby(['วันที่เกิดเหตุ', 'จังหวัด'])['จำนวนอุบัติเหตุ']\n",
    "        .sum()\n",
    "        .reset_index()\n",
    "    )\n",
    "\n",
    "def fill_missing_dates_provinces(grouped_df):\n",
    "    \"\"\"เติมวันที่-จังหวัดที่ไม่มีเหตุการณ์ให้มีจำนวนอุบัติเหตุ = 0\"\"\"\n",
    "    all_dates = pd.date_range(\n",
    "        start=grouped_df['วันที่เกิดเหตุ'].min(),\n",
    "        end=grouped_df['วันที่เกิดเหตุ'].max()\n",
    "    )\n",
    "    all_provinces = grouped_df['จังหวัด'].unique()\n",
    "    full_index = pd.MultiIndex.from_product(\n",
    "        [all_dates, all_provinces],\n",
    "        names=['วันที่เกิดเหตุ', 'จังหวัด']\n",
    "    )\n",
    "    complete_df = (\n",
    "        grouped_df.set_index(['วันที่เกิดเหตุ', 'จังหวัด'])\n",
    "        .reindex(full_index, fill_value=0)\n",
    "        .reset_index()\n",
    "    )\n",
    "    return complete_df.sort_values(by='วันที่เกิดเหตุ')\n",
    "\n",
    "def save_to_csv(df, output_path):\n",
    "    \"\"\"บันทึกไฟล์ CSV\"\"\"\n",
    "    df.to_csv(output_path, index=False, encoding='utf-8-sig')"
   ],
   "outputs": [],
   "execution_count": 1
  },
  {
   "metadata": {},
   "cell_type": "markdown",
   "source": "อ่านและเตรียมข้อมูล",
   "id": "e058a06cfd26133f"
  },
  {
   "metadata": {
    "ExecuteTime": {
     "end_time": "2025-04-02T14:49:52.477087Z",
     "start_time": "2025-04-02T14:49:52.340700Z"
    }
   },
   "cell_type": "code",
   "source": [
    "input_csv = '../output/accident2024_Damage_provinces.csv'\n",
    "df = read_and_prepare_data(input_csv)\n",
    "df.head()"
   ],
   "id": "32e9dfc795d30ba0",
   "outputs": [
    {
     "name": "stderr",
     "output_type": "stream",
     "text": [
      "/var/folders/mh/smhv27qx1n769y841db29nmr0000gn/T/ipykernel_20138/3102555854.py:6: UserWarning: Could not infer format, so each element will be parsed individually, falling back to `dateutil`. To ensure parsing is consistent and as-expected, please specify a format.\n",
      "  df['วันที่เกิดเหตุ'] = pd.to_datetime(df['วันที่เกิดเหตุ'].astype(str).str.strip(), errors='coerce')\n"
     ]
    },
    {
     "data": {
      "text/plain": [
       "   ปีที่เกิดเหตุ วันที่เกิดเหตุ  เวลา วันที่รายงาน เวลาที่รายงาน   ACC_CODE  \\\n",
       "0         2024.0     2024-01-01  0:12  06/18/2024          14:23  9701543.0   \n",
       "1         2024.0     2024-01-01  0:30     01-01-24         12:13  8901889.0   \n",
       "2         2024.0     2024-01-01  0:30     01-02-24          4:18  8902334.0   \n",
       "3         2024.0     2024-01-01  0:30     01-01-24         11:40  8902375.0   \n",
       "4         2024.0     2024-01-01  0:30     01-01-24         19:07  8902399.0   \n",
       "\n",
       "     หน่วยงาน สายทางหน่วยงาน รหัสสายทาง                             สายทาง  \\\n",
       "0  กรมทางหลวง        ทางหลวง       4164                                NaN   \n",
       "1  กรมทางหลวง        ทางหลวง        106                      ลี้ - ม่วงโตน   \n",
       "2  กรมทางหลวง        ทางหลวง       1143                 น้ำคลาด - ปางหมิ่น   \n",
       "3  กรมทางหลวง        ทางหลวง       3390                    หนองรี - บ่อยาง   \n",
       "4  กรมทางหลวง        ทางหลวง        221  แยกการช่าง - เชิงบันไดเขาพระวิหาร   \n",
       "\n",
       "   ...  รถบรรทุกมากกว่า10ล้อ รถอีแต๋น อื่นๆ คนเดินเท้า จำนวนผู้เสียชีวิต  \\\n",
       "0  ...                   0.0      0.0   0.0        0.0               0.0   \n",
       "1  ...                   0.0      0.0   0.0        0.0               0.0   \n",
       "2  ...                   0.0      0.0   0.0        0.0               0.0   \n",
       "3  ...                   0.0      0.0   0.0        2.0               0.0   \n",
       "4  ...                   0.0      0.0   0.0        0.0               0.0   \n",
       "\n",
       "  จำนวนผู้บาดเจ็บสาหัส จำนวนผู้บาดเจ็บเล็ก  รวมจำนวนผู้บาดเจ็บ  \\\n",
       "0                  0.0                 1.0                 1.0   \n",
       "1                  0.0                 1.0                 1.0   \n",
       "2                  0.0                 1.0                 1.0   \n",
       "3                  1.0                 1.0                 2.0   \n",
       "4                  0.0                 1.0                 1.0   \n",
       "\n",
       "   มูลค่าความเสียหาย  จำนวนอุบัติเหตุ  \n",
       "0              62536                1  \n",
       "1             653759                1  \n",
       "2             423925                1  \n",
       "3             406010                1  \n",
       "4             454972                1  \n",
       "\n",
       "[5 rows x 40 columns]"
      ],
      "text/html": [
       "<div>\n",
       "<style scoped>\n",
       "    .dataframe tbody tr th:only-of-type {\n",
       "        vertical-align: middle;\n",
       "    }\n",
       "\n",
       "    .dataframe tbody tr th {\n",
       "        vertical-align: top;\n",
       "    }\n",
       "\n",
       "    .dataframe thead th {\n",
       "        text-align: right;\n",
       "    }\n",
       "</style>\n",
       "<table border=\"1\" class=\"dataframe\">\n",
       "  <thead>\n",
       "    <tr style=\"text-align: right;\">\n",
       "      <th></th>\n",
       "      <th>ปีที่เกิดเหตุ</th>\n",
       "      <th>วันที่เกิดเหตุ</th>\n",
       "      <th>เวลา</th>\n",
       "      <th>วันที่รายงาน</th>\n",
       "      <th>เวลาที่รายงาน</th>\n",
       "      <th>ACC_CODE</th>\n",
       "      <th>หน่วยงาน</th>\n",
       "      <th>สายทางหน่วยงาน</th>\n",
       "      <th>รหัสสายทาง</th>\n",
       "      <th>สายทาง</th>\n",
       "      <th>...</th>\n",
       "      <th>รถบรรทุกมากกว่า10ล้อ</th>\n",
       "      <th>รถอีแต๋น</th>\n",
       "      <th>อื่นๆ</th>\n",
       "      <th>คนเดินเท้า</th>\n",
       "      <th>จำนวนผู้เสียชีวิต</th>\n",
       "      <th>จำนวนผู้บาดเจ็บสาหัส</th>\n",
       "      <th>จำนวนผู้บาดเจ็บเล็ก</th>\n",
       "      <th>รวมจำนวนผู้บาดเจ็บ</th>\n",
       "      <th>มูลค่าความเสียหาย</th>\n",
       "      <th>จำนวนอุบัติเหตุ</th>\n",
       "    </tr>\n",
       "  </thead>\n",
       "  <tbody>\n",
       "    <tr>\n",
       "      <th>0</th>\n",
       "      <td>2024.0</td>\n",
       "      <td>2024-01-01</td>\n",
       "      <td>0:12</td>\n",
       "      <td>06/18/2024</td>\n",
       "      <td>14:23</td>\n",
       "      <td>9701543.0</td>\n",
       "      <td>กรมทางหลวง</td>\n",
       "      <td>ทางหลวง</td>\n",
       "      <td>4164</td>\n",
       "      <td>NaN</td>\n",
       "      <td>...</td>\n",
       "      <td>0.0</td>\n",
       "      <td>0.0</td>\n",
       "      <td>0.0</td>\n",
       "      <td>0.0</td>\n",
       "      <td>0.0</td>\n",
       "      <td>0.0</td>\n",
       "      <td>1.0</td>\n",
       "      <td>1.0</td>\n",
       "      <td>62536</td>\n",
       "      <td>1</td>\n",
       "    </tr>\n",
       "    <tr>\n",
       "      <th>1</th>\n",
       "      <td>2024.0</td>\n",
       "      <td>2024-01-01</td>\n",
       "      <td>0:30</td>\n",
       "      <td>01-01-24</td>\n",
       "      <td>12:13</td>\n",
       "      <td>8901889.0</td>\n",
       "      <td>กรมทางหลวง</td>\n",
       "      <td>ทางหลวง</td>\n",
       "      <td>106</td>\n",
       "      <td>ลี้ - ม่วงโตน</td>\n",
       "      <td>...</td>\n",
       "      <td>0.0</td>\n",
       "      <td>0.0</td>\n",
       "      <td>0.0</td>\n",
       "      <td>0.0</td>\n",
       "      <td>0.0</td>\n",
       "      <td>0.0</td>\n",
       "      <td>1.0</td>\n",
       "      <td>1.0</td>\n",
       "      <td>653759</td>\n",
       "      <td>1</td>\n",
       "    </tr>\n",
       "    <tr>\n",
       "      <th>2</th>\n",
       "      <td>2024.0</td>\n",
       "      <td>2024-01-01</td>\n",
       "      <td>0:30</td>\n",
       "      <td>01-02-24</td>\n",
       "      <td>4:18</td>\n",
       "      <td>8902334.0</td>\n",
       "      <td>กรมทางหลวง</td>\n",
       "      <td>ทางหลวง</td>\n",
       "      <td>1143</td>\n",
       "      <td>น้ำคลาด - ปางหมิ่น</td>\n",
       "      <td>...</td>\n",
       "      <td>0.0</td>\n",
       "      <td>0.0</td>\n",
       "      <td>0.0</td>\n",
       "      <td>0.0</td>\n",
       "      <td>0.0</td>\n",
       "      <td>0.0</td>\n",
       "      <td>1.0</td>\n",
       "      <td>1.0</td>\n",
       "      <td>423925</td>\n",
       "      <td>1</td>\n",
       "    </tr>\n",
       "    <tr>\n",
       "      <th>3</th>\n",
       "      <td>2024.0</td>\n",
       "      <td>2024-01-01</td>\n",
       "      <td>0:30</td>\n",
       "      <td>01-01-24</td>\n",
       "      <td>11:40</td>\n",
       "      <td>8902375.0</td>\n",
       "      <td>กรมทางหลวง</td>\n",
       "      <td>ทางหลวง</td>\n",
       "      <td>3390</td>\n",
       "      <td>หนองรี - บ่อยาง</td>\n",
       "      <td>...</td>\n",
       "      <td>0.0</td>\n",
       "      <td>0.0</td>\n",
       "      <td>0.0</td>\n",
       "      <td>2.0</td>\n",
       "      <td>0.0</td>\n",
       "      <td>1.0</td>\n",
       "      <td>1.0</td>\n",
       "      <td>2.0</td>\n",
       "      <td>406010</td>\n",
       "      <td>1</td>\n",
       "    </tr>\n",
       "    <tr>\n",
       "      <th>4</th>\n",
       "      <td>2024.0</td>\n",
       "      <td>2024-01-01</td>\n",
       "      <td>0:30</td>\n",
       "      <td>01-01-24</td>\n",
       "      <td>19:07</td>\n",
       "      <td>8902399.0</td>\n",
       "      <td>กรมทางหลวง</td>\n",
       "      <td>ทางหลวง</td>\n",
       "      <td>221</td>\n",
       "      <td>แยกการช่าง - เชิงบันไดเขาพระวิหาร</td>\n",
       "      <td>...</td>\n",
       "      <td>0.0</td>\n",
       "      <td>0.0</td>\n",
       "      <td>0.0</td>\n",
       "      <td>0.0</td>\n",
       "      <td>0.0</td>\n",
       "      <td>0.0</td>\n",
       "      <td>1.0</td>\n",
       "      <td>1.0</td>\n",
       "      <td>454972</td>\n",
       "      <td>1</td>\n",
       "    </tr>\n",
       "  </tbody>\n",
       "</table>\n",
       "<p>5 rows × 40 columns</p>\n",
       "</div>"
      ]
     },
     "execution_count": 3,
     "metadata": {},
     "output_type": "execute_result"
    }
   ],
   "execution_count": 3
  },
  {
   "metadata": {},
   "cell_type": "markdown",
   "source": "รวมจำนวนอุบัติเหตุ",
   "id": "7743afec1021e691"
  },
  {
   "metadata": {
    "ExecuteTime": {
     "end_time": "2025-04-02T14:49:57.877115Z",
     "start_time": "2025-04-02T14:49:57.866501Z"
    }
   },
   "cell_type": "code",
   "source": [
    "grouped_df = group_accident_counts(df)\n",
    "grouped_df.head()"
   ],
   "id": "cfe4880d7894b9d0",
   "outputs": [
    {
     "data": {
      "text/plain": [
       "  วันที่เกิดเหตุ        จังหวัด  จำนวนอุบัติเหตุ\n",
       "0     2024-01-01         กระบี่                1\n",
       "1     2024-01-01  กรุงเทพมหานคร                8\n",
       "2     2024-01-01      กาญจนบุรี                5\n",
       "3     2024-01-01      กาฬสินธุ์                2\n",
       "4     2024-01-01      กำแพงเพชร                1"
      ],
      "text/html": [
       "<div>\n",
       "<style scoped>\n",
       "    .dataframe tbody tr th:only-of-type {\n",
       "        vertical-align: middle;\n",
       "    }\n",
       "\n",
       "    .dataframe tbody tr th {\n",
       "        vertical-align: top;\n",
       "    }\n",
       "\n",
       "    .dataframe thead th {\n",
       "        text-align: right;\n",
       "    }\n",
       "</style>\n",
       "<table border=\"1\" class=\"dataframe\">\n",
       "  <thead>\n",
       "    <tr style=\"text-align: right;\">\n",
       "      <th></th>\n",
       "      <th>วันที่เกิดเหตุ</th>\n",
       "      <th>จังหวัด</th>\n",
       "      <th>จำนวนอุบัติเหตุ</th>\n",
       "    </tr>\n",
       "  </thead>\n",
       "  <tbody>\n",
       "    <tr>\n",
       "      <th>0</th>\n",
       "      <td>2024-01-01</td>\n",
       "      <td>กระบี่</td>\n",
       "      <td>1</td>\n",
       "    </tr>\n",
       "    <tr>\n",
       "      <th>1</th>\n",
       "      <td>2024-01-01</td>\n",
       "      <td>กรุงเทพมหานคร</td>\n",
       "      <td>8</td>\n",
       "    </tr>\n",
       "    <tr>\n",
       "      <th>2</th>\n",
       "      <td>2024-01-01</td>\n",
       "      <td>กาญจนบุรี</td>\n",
       "      <td>5</td>\n",
       "    </tr>\n",
       "    <tr>\n",
       "      <th>3</th>\n",
       "      <td>2024-01-01</td>\n",
       "      <td>กาฬสินธุ์</td>\n",
       "      <td>2</td>\n",
       "    </tr>\n",
       "    <tr>\n",
       "      <th>4</th>\n",
       "      <td>2024-01-01</td>\n",
       "      <td>กำแพงเพชร</td>\n",
       "      <td>1</td>\n",
       "    </tr>\n",
       "  </tbody>\n",
       "</table>\n",
       "</div>"
      ]
     },
     "execution_count": 4,
     "metadata": {},
     "output_type": "execute_result"
    }
   ],
   "execution_count": 4
  },
  {
   "metadata": {},
   "cell_type": "markdown",
   "source": "เติมข้อมูลวันที่-จังหวัดที่ไม่มีเหตุการณ์",
   "id": "781aac3f5e0f32f7"
  },
  {
   "metadata": {
    "ExecuteTime": {
     "end_time": "2025-04-02T14:50:11.140969Z",
     "start_time": "2025-04-02T14:50:11.126004Z"
    }
   },
   "cell_type": "code",
   "source": [
    "complete_df = fill_missing_dates_provinces(grouped_df)\n",
    "complete_df.head()"
   ],
   "id": "c18d0784d46e5d1f",
   "outputs": [
    {
     "data": {
      "text/plain": [
       "   วันที่เกิดเหตุ       จังหวัด  จำนวนอุบัติเหตุ\n",
       "0      2024-01-01        กระบี่                1\n",
       "55     2024-01-01       หนองคาย                1\n",
       "54     2024-01-01       สุโขทัย                1\n",
       "53     2024-01-01      สุรินทร์                1\n",
       "52     2024-01-01  สุราษฎร์ธานี                9"
      ],
      "text/html": [
       "<div>\n",
       "<style scoped>\n",
       "    .dataframe tbody tr th:only-of-type {\n",
       "        vertical-align: middle;\n",
       "    }\n",
       "\n",
       "    .dataframe tbody tr th {\n",
       "        vertical-align: top;\n",
       "    }\n",
       "\n",
       "    .dataframe thead th {\n",
       "        text-align: right;\n",
       "    }\n",
       "</style>\n",
       "<table border=\"1\" class=\"dataframe\">\n",
       "  <thead>\n",
       "    <tr style=\"text-align: right;\">\n",
       "      <th></th>\n",
       "      <th>วันที่เกิดเหตุ</th>\n",
       "      <th>จังหวัด</th>\n",
       "      <th>จำนวนอุบัติเหตุ</th>\n",
       "    </tr>\n",
       "  </thead>\n",
       "  <tbody>\n",
       "    <tr>\n",
       "      <th>0</th>\n",
       "      <td>2024-01-01</td>\n",
       "      <td>กระบี่</td>\n",
       "      <td>1</td>\n",
       "    </tr>\n",
       "    <tr>\n",
       "      <th>55</th>\n",
       "      <td>2024-01-01</td>\n",
       "      <td>หนองคาย</td>\n",
       "      <td>1</td>\n",
       "    </tr>\n",
       "    <tr>\n",
       "      <th>54</th>\n",
       "      <td>2024-01-01</td>\n",
       "      <td>สุโขทัย</td>\n",
       "      <td>1</td>\n",
       "    </tr>\n",
       "    <tr>\n",
       "      <th>53</th>\n",
       "      <td>2024-01-01</td>\n",
       "      <td>สุรินทร์</td>\n",
       "      <td>1</td>\n",
       "    </tr>\n",
       "    <tr>\n",
       "      <th>52</th>\n",
       "      <td>2024-01-01</td>\n",
       "      <td>สุราษฎร์ธานี</td>\n",
       "      <td>9</td>\n",
       "    </tr>\n",
       "  </tbody>\n",
       "</table>\n",
       "</div>"
      ]
     },
     "execution_count": 5,
     "metadata": {},
     "output_type": "execute_result"
    }
   ],
   "execution_count": 5
  },
  {
   "metadata": {},
   "cell_type": "markdown",
   "source": "บันทึกไฟล์ CSV",
   "id": "ecbabceb8c85fc29"
  },
  {
   "metadata": {
    "ExecuteTime": {
     "end_time": "2025-04-02T14:51:47.220063Z",
     "start_time": "2025-04-02T14:51:47.178528Z"
    }
   },
   "cell_type": "code",
   "source": [
    "output_csv = '../output/accident2024_sum_accident.csv'\n",
    "save_to_csv(complete_df, output_csv)\n",
    "print(f\"✅ Done! Output saved to: {output_csv}\")"
   ],
   "id": "f6d55075d6bea7bc",
   "outputs": [
    {
     "name": "stdout",
     "output_type": "stream",
     "text": [
      "✅ Done! Output saved to: ../output/accident2024_sum_accident.csv\n"
     ]
    }
   ],
   "execution_count": 7
  },
  {
   "metadata": {},
   "cell_type": "markdown",
   "source": "บันทึกไฟล์ Excel",
   "id": "6ffc6677bc2b6f64"
  },
  {
   "metadata": {
    "ExecuteTime": {
     "end_time": "2025-04-02T15:02:58.786077Z",
     "start_time": "2025-04-02T15:02:57.832991Z"
    }
   },
   "cell_type": "code",
   "source": [
    "output_excel = '../output/accident2024_sum_accident.xlsx'\n",
    "complete_df['วันที่เกิดเหตุ'] = complete_df['วันที่เกิดเหตุ'].dt.date\n",
    "complete_df.to_excel(output_excel, index=False, engine='openpyxl')\n",
    "print(f\"✅ Done! Output saved to: {output_excel}\")"
   ],
   "id": "6b802333ad1954e4",
   "outputs": [
    {
     "name": "stdout",
     "output_type": "stream",
     "text": [
      "✅ Done! Output saved to: ../output/accident2024_sum_accident.xlsx\n"
     ]
    }
   ],
   "execution_count": 11
  },
  {
   "metadata": {},
   "cell_type": "code",
   "outputs": [],
   "execution_count": null,
   "source": "",
   "id": "7273f1ae8deaae78"
  }
 ],
 "metadata": {
  "kernelspec": {
   "display_name": "Python 3",
   "language": "python",
   "name": "python3"
  },
  "language_info": {
   "codemirror_mode": {
    "name": "ipython",
    "version": 2
   },
   "file_extension": ".py",
   "mimetype": "text/x-python",
   "name": "python",
   "nbconvert_exporter": "python",
   "pygments_lexer": "ipython2",
   "version": "2.7.6"
  }
 },
 "nbformat": 4,
 "nbformat_minor": 5
}
